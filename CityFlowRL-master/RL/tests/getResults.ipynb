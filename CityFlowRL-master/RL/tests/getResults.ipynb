{
 "cells": [
  {
   "cell_type": "code",
   "execution_count": 1,
   "metadata": {
    "collapsed": true,
    "ExecuteTime": {
     "end_time": "2023-05-21T17:47:09.785357900Z",
     "start_time": "2023-05-21T17:47:06.753859400Z"
    }
   },
   "outputs": [],
   "source": [
    "import pandas as pd\n",
    "\n",
    "import testPPO,testA2C,testStatic\n",
    "from glob import glob\n",
    "import os\n",
    "import numpy as np\n"
   ]
  },
  {
   "cell_type": "code",
   "execution_count": 2,
   "outputs": [
    {
     "data": {
      "text/plain": "['hangzhou_1x1_bc-tyc_18041607_1h',\n 'hangzhou_1x1_bc-tyc_18041608_1h',\n 'hangzhou_1x1_bc-tyc_18041610_1h',\n 'hangzhou_1x1_kn-hz_18041607_1h',\n 'hangzhou_1x1_kn-hz_18041608_1h',\n 'hangzhou_1x1_qc-yn_18041607_1h',\n 'hangzhou_1x1_qc-yn_18041608_1h',\n 'hangzhou_1x1_sb-sx_18041607_1h',\n 'hangzhou_1x1_sb-sx_18041608_1h',\n 'hangzhou_1x1_tms-xy_18041607_1h',\n 'hangzhou_1x1_tms-xy_18041608_1h']"
     },
     "execution_count": 2,
     "metadata": {},
     "output_type": "execute_result"
    }
   ],
   "source": [
    "configs= [f.name for f in os.scandir('configs') if f.is_dir()]\n",
    "configs.sort()\n",
    "configs"
   ],
   "metadata": {
    "collapsed": false,
    "ExecuteTime": {
     "end_time": "2023-05-21T17:47:09.800255700Z",
     "start_time": "2023-05-21T17:47:09.790900700Z"
    }
   }
  },
  {
   "cell_type": "code",
   "execution_count": 3,
   "outputs": [
    {
     "name": "stdout",
     "output_type": "stream",
     "text": [
      "Using config:  hangzhou_1x1_bc-tyc_18041607_1h\n",
      "A2C:\n",
      "Episode reward:  [-3049.]\n",
      "[{'avg_travel_time': 108.78679653679653, 'terminal_observation': array([0., 0., 2., 0., 0., 2., 2., 9.])}]\n",
      "108.78679653679653\n",
      "PPO:\n",
      "Episode reward:  [-2753.]\n",
      "[{'avg_travel_time': 105.65963203463204, 'terminal_observation': array([8., 0., 2., 0., 4., 2., 0., 0.])}]\n",
      "105.65963203463204\n",
      "__________________________________________________________________\n",
      "Using config:  hangzhou_1x1_bc-tyc_18041608_1h\n",
      "A2C:\n",
      "Episode reward:  [-3903.]\n",
      "[{'avg_travel_time': 113.33975795607351, 'terminal_observation': array([ 5.,  0.,  0.,  1.,  3.,  1., 14., 19.])}]\n",
      "113.33975795607351\n",
      "PPO:\n",
      "Episode reward:  [-3940.]\n",
      "[{'avg_travel_time': 117.88614970865083, 'terminal_observation': array([ 7.,  0.,  0.,  1.,  4.,  0.,  8., 10.])}]\n",
      "117.88614970865083\n",
      "__________________________________________________________________\n",
      "Using config:  hangzhou_1x1_bc-tyc_18041610_1h\n",
      "A2C:\n",
      "Episode reward:  [-3031.]\n",
      "[{'avg_travel_time': 101.63483424047502, 'terminal_observation': array([0., 0., 0., 3., 9., 7., 7., 0.])}]\n",
      "101.63483424047502\n",
      "PPO:\n",
      "Episode reward:  [-3210.]\n",
      "[{'avg_travel_time': 106.10737258782781, 'terminal_observation': array([ 0.,  0.,  0.,  0.,  5.,  1.,  7., 11.])}]\n",
      "106.10737258782781\n",
      "__________________________________________________________________\n",
      "Using config:  hangzhou_1x1_kn-hz_18041607_1h\n",
      "A2C:\n",
      "Episode reward:  [-1260.]\n",
      "[{'avg_travel_time': 98.44740024183797, 'terminal_observation': array([1., 1., 0., 0., 0., 0., 0., 4.])}]\n",
      "98.44740024183797\n",
      "PPO:\n",
      "Episode reward:  [-1095.]\n",
      "[{'avg_travel_time': 92.79156626506024, 'terminal_observation': array([0., 0., 0., 3., 2., 1., 0., 4.])}]\n",
      "92.79156626506024\n",
      "__________________________________________________________________\n",
      "Using config:  hangzhou_1x1_kn-hz_18041608_1h\n",
      "A2C:\n",
      "Episode reward:  [-1182.]\n",
      "[{'avg_travel_time': 100.6271870794078, 'terminal_observation': array([2., 4., 0., 0., 0., 2., 0., 0.])}]\n",
      "100.6271870794078\n",
      "PPO:\n",
      "Episode reward:  [-968.]\n",
      "[{'avg_travel_time': 91.84118438761777, 'terminal_observation': array([3., 1., 0., 4., 1., 0., 0., 0.])}]\n",
      "91.84118438761777\n",
      "__________________________________________________________________\n",
      "Using config:  hangzhou_1x1_qc-yn_18041607_1h\n",
      "A2C:\n",
      "Episode reward:  [-2257.]\n",
      "[{'avg_travel_time': 107.70287044220326, 'terminal_observation': array([3., 6., 0., 0., 3., 3., 6., 3.])}]\n",
      "107.70287044220326\n",
      "PPO:\n",
      "Episode reward:  [-1572.]\n",
      "[{'avg_travel_time': 91.70830100853375, 'terminal_observation': array([0., 1., 6., 4., 0., 4., 1., 3.])}]\n",
      "91.70830100853375\n",
      "__________________________________________________________________\n",
      "Using config:  hangzhou_1x1_qc-yn_18041608_1h\n",
      "A2C:\n",
      "Episode reward:  [-2044.]\n",
      "[{'avg_travel_time': 97.97672778561353, 'terminal_observation': array([0., 1., 0., 2., 5., 7., 4., 0.])}]\n",
      "97.97672778561353\n",
      "PPO:\n",
      "Episode reward:  [-1768.]\n",
      "[{'avg_travel_time': 92.33709449929478, 'terminal_observation': array([ 0.,  0.,  3.,  2., 10.,  3.,  0.,  0.])}]\n",
      "92.33709449929478\n",
      "__________________________________________________________________\n",
      "Using config:  hangzhou_1x1_sb-sx_18041607_1h\n",
      "A2C:\n",
      "Episode reward:  [-2464.]\n",
      "[{'avg_travel_time': 101.43087971274686, 'terminal_observation': array([ 0.,  0.,  9.,  1., 11.,  6.,  2.,  8.])}]\n",
      "101.43087971274686\n",
      "PPO:\n",
      "Episode reward:  [-2228.]\n",
      "[{'avg_travel_time': 96.94733692399761, 'terminal_observation': array([ 0.,  0.,  7.,  1., 15.,  3.,  0.,  9.])}]\n",
      "96.94733692399761\n",
      "__________________________________________________________________\n",
      "Using config:  hangzhou_1x1_sb-sx_18041608_1h\n",
      "A2C:\n",
      "Episode reward:  [-3440.]\n",
      "[{'avg_travel_time': 109.6619094488189, 'terminal_observation': array([9., 0., 6., 3., 7., 0., 1., 4.])}]\n",
      "109.6619094488189\n",
      "PPO:\n",
      "Episode reward:  [-3199.]\n",
      "[{'avg_travel_time': 107.78543307086615, 'terminal_observation': array([9., 0., 6., 3., 9., 0., 4., 5.])}]\n",
      "107.78543307086615\n",
      "__________________________________________________________________\n",
      "Using config:  hangzhou_1x1_tms-xy_18041607_1h\n",
      "A2C:\n",
      "Episode reward:  [-3851.]\n",
      "[{'avg_travel_time': 119.90959878110716, 'terminal_observation': array([15.,  3.,  0.,  3., 38., 23.,  0.,  0.])}]\n",
      "119.90959878110716\n",
      "PPO:\n",
      "Episode reward:  [-3295.]\n",
      "[{'avg_travel_time': 110.5352971051295, 'terminal_observation': array([27.,  3.,  7.,  8., 17.,  0.,  7.,  1.])}]\n",
      "110.5352971051295\n",
      "__________________________________________________________________\n",
      "Using config:  hangzhou_1x1_tms-xy_18041608_1h\n",
      "A2C:\n",
      "Episode reward:  [-5333.]\n",
      "[{'avg_travel_time': 143.07179249652617, 'terminal_observation': array([ 0.,  3.,  5.,  5.,  0., 26.,  4.,  2.])}]\n",
      "143.07179249652617\n",
      "PPO:\n",
      "Episode reward:  [-4033.]\n",
      "[{'avg_travel_time': 123.38721630384437, 'terminal_observation': array([13.,  1.,  9.,  6.,  0.,  0.,  2.,  5.])}]\n",
      "123.38721630384437\n",
      "__________________________________________________________________\n",
      "Using config:  syn_1x1_uniform_1600_1h\n",
      "A2C:\n",
      "Episode reward:  [-3739.]\n",
      "[{'avg_travel_time': 121.89875, 'terminal_observation': array([3., 0., 2., 7., 3., 2., 7., 2.])}]\n",
      "121.89875\n",
      "PPO:\n",
      "Episode reward:  [-2812.]\n",
      "[{'avg_travel_time': 103.230625, 'terminal_observation': array([5., 3., 2., 0., 5., 3., 0., 2.])}]\n",
      "103.230625\n",
      "__________________________________________________________________\n",
      "Using config:  syn_1x1_uniform_2400_1h\n",
      "A2C:\n",
      "Episode reward:  [-10630.]\n",
      "[{'avg_travel_time': 303.16375, 'terminal_observation': array([ 5., 26.,  2.,  0., 37., 39.,  0.,  2.])}]\n",
      "303.16375\n",
      "PPO:\n",
      "Episode reward:  [-7538.]\n",
      "[{'avg_travel_time': 265.19875, 'terminal_observation': array([ 3.,  0.,  5., 39.,  3.,  0., 12.,  5.])}]\n",
      "265.19875\n",
      "__________________________________________________________________\n",
      "Using config:  syn_1x1_uniform_800_1h\n",
      "A2C:\n",
      "Episode reward:  [-1922.]\n",
      "[{'avg_travel_time': 122.02375, 'terminal_observation': array([1., 1., 0., 3., 4., 6., 3., 0.])}]\n",
      "122.02375\n",
      "PPO:\n",
      "Episode reward:  [-1538.]\n",
      "[{'avg_travel_time': 106.62875, 'terminal_observation': array([0., 0., 1., 1., 4., 4., 2., 2.])}]\n",
      "106.62875\n",
      "__________________________________________________________________\n"
     ]
    }
   ],
   "source": [
    "results = []\n",
    "for config in configs:\n",
    "    print('Using config: ',config)\n",
    "    print('A2C:')\n",
    "    a2c = testA2C.test(config)\n",
    "    print(a2c)\n",
    "    print('PPO:')\n",
    "    ppo = testPPO.test(config)\n",
    "    print(ppo)\n",
    "    results.append([config,a2c,ppo])\n",
    "    print(\"__________________________________________________________________\")"
   ],
   "metadata": {
    "collapsed": false,
    "ExecuteTime": {
     "start_time": "2023-05-06T16:01:56.791382Z",
     "end_time": "2023-05-06T16:14:40.098931Z"
    }
   }
  },
  {
   "cell_type": "code",
   "execution_count": 21,
   "outputs": [
    {
     "data": {
      "text/plain": "[['hangzhou_1x1_bc-tyc_18041607_1h', 108.78679653679653, 105.65963203463204],\n ['hangzhou_1x1_bc-tyc_18041608_1h', 113.33975795607351, 117.88614970865083],\n ['hangzhou_1x1_bc-tyc_18041610_1h', 101.63483424047502, 106.10737258782781],\n ['hangzhou_1x1_kn-hz_18041607_1h', 98.44740024183797, 92.79156626506024],\n ['hangzhou_1x1_kn-hz_18041608_1h', 100.6271870794078, 91.84118438761777],\n ['hangzhou_1x1_qc-yn_18041607_1h', 107.70287044220326, 91.70830100853375],\n ['hangzhou_1x1_qc-yn_18041608_1h', 97.97672778561353, 92.33709449929478],\n ['hangzhou_1x1_sb-sx_18041607_1h', 101.43087971274686, 96.94733692399761],\n ['hangzhou_1x1_sb-sx_18041608_1h', 109.6619094488189, 107.78543307086615],\n ['hangzhou_1x1_tms-xy_18041607_1h', 119.90959878110716, 110.5352971051295],\n ['hangzhou_1x1_tms-xy_18041608_1h', 143.07179249652617, 123.38721630384437]]"
     },
     "execution_count": 21,
     "metadata": {},
     "output_type": "execute_result"
    }
   ],
   "source": [
    "results"
   ],
   "metadata": {
    "collapsed": false,
    "ExecuteTime": {
     "start_time": "2023-05-06T16:25:16.485915Z",
     "end_time": "2023-05-06T16:25:16.491920Z"
    }
   }
  },
  {
   "cell_type": "code",
   "execution_count": 4,
   "outputs": [
    {
     "name": "stdout",
     "output_type": "stream",
     "text": [
      "Using config:  hangzhou_1x1_bc-tyc_18041607_1h\n",
      "Episode reward:  -10271.0\n",
      "{'avg_travel_time': 524.1317794710892}\n",
      "524.1317794710892\n",
      "__________________________________________________________________\n",
      "Using config:  hangzhou_1x1_bc-tyc_18041608_1h\n",
      "Episode reward:  -10276.0\n",
      "{'avg_travel_time': 524.8050201703272}\n",
      "524.8050201703272\n",
      "__________________________________________________________________\n",
      "Using config:  hangzhou_1x1_bc-tyc_18041610_1h\n",
      "Episode reward:  -10271.0\n",
      "{'avg_travel_time': 524.1326759300762}\n",
      "524.1326759300762\n",
      "__________________________________________________________________\n",
      "Using config:  hangzhou_1x1_kn-hz_18041607_1h\n",
      "Episode reward:  -10276.0\n",
      "{'avg_travel_time': 524.8054683998207}\n",
      "524.8054683998207\n",
      "__________________________________________________________________\n",
      "Using config:  hangzhou_1x1_kn-hz_18041608_1h\n",
      "Episode reward:  -10276.0\n",
      "{'avg_travel_time': 524.8045719408337}\n",
      "524.8045719408337\n",
      "__________________________________________________________________\n",
      "Using config:  hangzhou_1x1_qc-yn_18041607_1h\n",
      "Episode reward:  -10271.0\n",
      "{'avg_travel_time': 524.1326759300762}\n",
      "524.1326759300762\n",
      "__________________________________________________________________\n",
      "Using config:  hangzhou_1x1_qc-yn_18041608_1h\n",
      "Episode reward:  -10280.0\n",
      "{'avg_travel_time': 527.2716270730614}\n",
      "527.2716270730614\n",
      "__________________________________________________________________\n",
      "Using config:  hangzhou_1x1_sb-sx_18041607_1h\n",
      "Episode reward:  -10271.0\n",
      "{'avg_travel_time': 524.1331241595697}\n",
      "524.1331241595697\n",
      "__________________________________________________________________\n",
      "Using config:  hangzhou_1x1_sb-sx_18041608_1h\n",
      "Episode reward:  -10276.0\n",
      "{'avg_travel_time': 524.8045719408337}\n",
      "524.8045719408337\n",
      "__________________________________________________________________\n",
      "Using config:  hangzhou_1x1_tms-xy_18041607_1h\n",
      "Episode reward:  -10276.0\n",
      "{'avg_travel_time': 524.8045719408337}\n",
      "524.8045719408337\n",
      "__________________________________________________________________\n",
      "Using config:  hangzhou_1x1_tms-xy_18041608_1h\n",
      "Episode reward:  -10286.0\n",
      "{'avg_travel_time': 524.4531600179292}\n",
      "524.4531600179292\n",
      "__________________________________________________________________\n"
     ]
    }
   ],
   "source": [
    "static = []\n",
    "for config in configs:\n",
    "    print('Using config: ',config)\n",
    "    s = testStatic.test(config)\n",
    "    print(s)\n",
    "    static.append([config,s])\n",
    "    print(\"__________________________________________________________________\")"
   ],
   "metadata": {
    "collapsed": false,
    "ExecuteTime": {
     "start_time": "2023-05-06T16:47:37.299424Z",
     "end_time": "2023-05-06T16:52:33.598569Z"
    }
   }
  },
  {
   "cell_type": "code",
   "execution_count": null,
   "outputs": [],
   "source": [
    "static"
   ],
   "metadata": {
    "collapsed": false
   }
  },
  {
   "cell_type": "code",
   "execution_count": 26,
   "outputs": [],
   "source": [
    "df = pd.DataFrame(results,columns=[\"name\",\"A2C\",\"PPO\"])\n",
    "df.to_csv(\"data.csv\",index=False)"
   ],
   "metadata": {
    "collapsed": false,
    "ExecuteTime": {
     "start_time": "2023-05-06T16:27:14.132823Z",
     "end_time": "2023-05-06T16:27:14.137823Z"
    }
   }
  },
  {
   "cell_type": "code",
   "execution_count": 5,
   "outputs": [
    {
     "data": {
      "text/plain": "                                 SOTL  A2C  PPO  DQN\nname                                                \nhangzhou_1x1_bc-tyc_18041607_1h   221  109  106  151\nhangzhou_1x1_bc-tyc_18041608_1h   335  113  118  153\nhangzhou_1x1_bc-tyc_18041610_1h   213  102  106  143\nhangzhou_1x1_kn-hz_18041607_1h     72   98   93  112\nhangzhou_1x1_kn-hz_18041608_1h     64  101   92  105\nhangzhou_1x1_qc-yn_18041607_1h    117  108   92  141\nhangzhou_1x1_qc-yn_18041608_1h    132   98   92  129\nhangzhou_1x1_sb-sx_18041607_1h    174  101   97  132\nhangzhou_1x1_sb-sx_18041608_1h    290  110  108  172\nhangzhou_1x1_tms-xy_18041607_1h   215  120  111  193\nhangzhou_1x1_tms-xy_18041608_1h   325  143  123  229",
      "text/html": "<div>\n<style scoped>\n    .dataframe tbody tr th:only-of-type {\n        vertical-align: middle;\n    }\n\n    .dataframe tbody tr th {\n        vertical-align: top;\n    }\n\n    .dataframe thead th {\n        text-align: right;\n    }\n</style>\n<table border=\"1\" class=\"dataframe\">\n  <thead>\n    <tr style=\"text-align: right;\">\n      <th></th>\n      <th>SOTL</th>\n      <th>A2C</th>\n      <th>PPO</th>\n      <th>DQN</th>\n    </tr>\n    <tr>\n      <th>name</th>\n      <th></th>\n      <th></th>\n      <th></th>\n      <th></th>\n    </tr>\n  </thead>\n  <tbody>\n    <tr>\n      <th>hangzhou_1x1_bc-tyc_18041607_1h</th>\n      <td>221</td>\n      <td>109</td>\n      <td>106</td>\n      <td>151</td>\n    </tr>\n    <tr>\n      <th>hangzhou_1x1_bc-tyc_18041608_1h</th>\n      <td>335</td>\n      <td>113</td>\n      <td>118</td>\n      <td>153</td>\n    </tr>\n    <tr>\n      <th>hangzhou_1x1_bc-tyc_18041610_1h</th>\n      <td>213</td>\n      <td>102</td>\n      <td>106</td>\n      <td>143</td>\n    </tr>\n    <tr>\n      <th>hangzhou_1x1_kn-hz_18041607_1h</th>\n      <td>72</td>\n      <td>98</td>\n      <td>93</td>\n      <td>112</td>\n    </tr>\n    <tr>\n      <th>hangzhou_1x1_kn-hz_18041608_1h</th>\n      <td>64</td>\n      <td>101</td>\n      <td>92</td>\n      <td>105</td>\n    </tr>\n    <tr>\n      <th>hangzhou_1x1_qc-yn_18041607_1h</th>\n      <td>117</td>\n      <td>108</td>\n      <td>92</td>\n      <td>141</td>\n    </tr>\n    <tr>\n      <th>hangzhou_1x1_qc-yn_18041608_1h</th>\n      <td>132</td>\n      <td>98</td>\n      <td>92</td>\n      <td>129</td>\n    </tr>\n    <tr>\n      <th>hangzhou_1x1_sb-sx_18041607_1h</th>\n      <td>174</td>\n      <td>101</td>\n      <td>97</td>\n      <td>132</td>\n    </tr>\n    <tr>\n      <th>hangzhou_1x1_sb-sx_18041608_1h</th>\n      <td>290</td>\n      <td>110</td>\n      <td>108</td>\n      <td>172</td>\n    </tr>\n    <tr>\n      <th>hangzhou_1x1_tms-xy_18041607_1h</th>\n      <td>215</td>\n      <td>120</td>\n      <td>111</td>\n      <td>193</td>\n    </tr>\n    <tr>\n      <th>hangzhou_1x1_tms-xy_18041608_1h</th>\n      <td>325</td>\n      <td>143</td>\n      <td>123</td>\n      <td>229</td>\n    </tr>\n  </tbody>\n</table>\n</div>"
     },
     "execution_count": 5,
     "metadata": {},
     "output_type": "execute_result"
    }
   ],
   "source": [
    "df = pd.read_csv('data.csv',index_col='name').round(0)\n",
    "df = df.astype(int)\n",
    "df"
   ],
   "metadata": {
    "collapsed": false,
    "ExecuteTime": {
     "start_time": "2023-05-08T00:59:15.928532Z",
     "end_time": "2023-05-08T00:59:15.942579Z"
    }
   }
  },
  {
   "cell_type": "code",
   "execution_count": 7,
   "outputs": [],
   "source": [
    "df.to_csv('data.csv')"
   ],
   "metadata": {
    "collapsed": false,
    "ExecuteTime": {
     "start_time": "2023-05-08T01:04:45.863028Z",
     "end_time": "2023-05-08T01:04:45.875116Z"
    }
   }
  },
  {
   "cell_type": "code",
   "execution_count": 6,
   "outputs": [
    {
     "data": {
      "text/plain": "<Axes: xlabel='Average travel time in seconds', ylabel='name'>"
     },
     "execution_count": 6,
     "metadata": {},
     "output_type": "execute_result"
    },
    {
     "data": {
      "text/plain": "<Figure size 640x480 with 1 Axes>",
      "image/png": "[encoded data removed]"
     },
     "metadata": {},
     "output_type": "display_data"
    }
   ],
   "source": [
    "df.plot.barh(xlabel= \"Average travel time in seconds\")"
   ],
   "metadata": {
    "collapsed": false,
    "ExecuteTime": {
     "start_time": "2023-05-08T01:01:02.306704Z",
     "end_time": "2023-05-08T01:01:02.702368Z"
    }
   }
  },
  {
   "cell_type": "code",
   "execution_count": 9,
   "outputs": [
    {
     "data": {
      "text/plain": "['hangzhou_1x1_bc-tyc_18041607_1h',\n 'hangzhou_1x1_bc-tyc_18041608_1h',\n 'hangzhou_1x1_bc-tyc_18041610_1h',\n 'hangzhou_1x1_kn-hz_18041607_1h',\n 'hangzhou_1x1_kn-hz_18041608_1h',\n 'hangzhou_1x1_qc-yn_18041607_1h',\n 'hangzhou_1x1_qc-yn_18041608_1h',\n 'hangzhou_1x1_sb-sx_18041607_1h',\n 'hangzhou_1x1_sb-sx_18041608_1h',\n 'hangzhou_1x1_tms-xy_18041607_1h',\n 'hangzhou_1x1_tms-xy_18041608_1h']"
     },
     "execution_count": 9,
     "metadata": {},
     "output_type": "execute_result"
    }
   ],
   "source": [
    "import json\n",
    "configs= [f.name for f in os.scandir('configs') if f.is_dir()]\n",
    "configs.sort()\n",
    "configs"
   ],
   "metadata": {
    "collapsed": false,
    "ExecuteTime": {
     "end_time": "2023-05-21T17:51:29.952653Z",
     "start_time": "2023-05-21T17:51:29.918121400Z"
    }
   }
  },
  {
   "cell_type": "code",
   "execution_count": 10,
   "outputs": [
    {
     "data": {
      "text/plain": "'hangzhou_1x1_bc-tyc_18041607_1h'"
     },
     "execution_count": 10,
     "metadata": {},
     "output_type": "execute_result"
    }
   ],
   "source": [],
   "metadata": {
    "collapsed": false,
    "ExecuteTime": {
     "end_time": "2023-05-21T17:51:41.786009200Z",
     "start_time": "2023-05-21T17:51:41.659488400Z"
    }
   }
  },
  {
   "cell_type": "code",
   "execution_count": 11,
   "outputs": [],
   "source": [
    "info = []\n",
    "for config in configs:\n",
    "    with open(f'configs/{config}/flow.json', 'r') as file:\n",
    "        data = file.read().replace('\\n', '')\n",
    "        n = json.loads(data)\n",
    "        info.append((config,len(n)))\n",
    "\n"
   ],
   "metadata": {
    "collapsed": false,
    "ExecuteTime": {
     "end_time": "2023-05-21T17:52:30.050527100Z",
     "start_time": "2023-05-21T17:52:29.793326700Z"
    }
   }
  },
  {
   "cell_type": "code",
   "execution_count": 12,
   "outputs": [
    {
     "data": {
      "text/plain": "[('hangzhou_1x1_bc-tyc_18041607_1h', 1848),\n ('hangzhou_1x1_bc-tyc_18041608_1h', 2231),\n ('hangzhou_1x1_bc-tyc_18041610_1h', 2021),\n ('hangzhou_1x1_kn-hz_18041607_1h', 827),\n ('hangzhou_1x1_kn-hz_18041608_1h', 743),\n ('hangzhou_1x1_qc-yn_18041607_1h', 1289),\n ('hangzhou_1x1_qc-yn_18041608_1h', 1417),\n ('hangzhou_1x1_sb-sx_18041607_1h', 1671),\n ('hangzhou_1x1_sb-sx_18041608_1h', 2032),\n ('hangzhou_1x1_tms-xy_18041607_1h', 1969),\n ('hangzhou_1x1_tms-xy_18041608_1h', 2159)]"
     },
     "execution_count": 12,
     "metadata": {},
     "output_type": "execute_result"
    }
   ],
   "source": [
    "info"
   ],
   "metadata": {
    "collapsed": false,
    "ExecuteTime": {
     "end_time": "2023-05-21T17:52:31.856023300Z",
     "start_time": "2023-05-21T17:52:31.825020400Z"
    }
   }
  },
  {
   "cell_type": "code",
   "execution_count": null,
   "outputs": [],
   "source": [],
   "metadata": {
    "collapsed": false
   }
  },
  {
   "cell_type": "code",
   "execution_count": 20,
   "outputs": [],
   "source": [
    "\n",
    "\n",
    "n = json.loads(data)\n"
   ],
   "metadata": {
    "collapsed": false,
    "ExecuteTime": {
     "end_time": "2023-05-20T19:22:09.493015Z",
     "start_time": "2023-05-20T19:22:09.477970800Z"
    }
   }
  },
  {
   "cell_type": "code",
   "execution_count": 21,
   "outputs": [
    {
     "data": {
      "text/plain": "743"
     },
     "execution_count": 21,
     "metadata": {},
     "output_type": "execute_result"
    }
   ],
   "source": [
    "len(n)"
   ],
   "metadata": {
    "collapsed": false,
    "ExecuteTime": {
     "end_time": "2023-05-20T19:22:09.923888800Z",
     "start_time": "2023-05-20T19:22:09.907254600Z"
    }
   }
  }
 ],
 "metadata": {
  "kernelspec": {
   "display_name": "Python 3",
   "language": "python",
   "name": "python3"
  },
  "language_info": {
   "codemirror_mode": {
    "name": "ipython",
    "version": 2
   },
   "file_extension": ".py",
   "mimetype": "text/x-python",
   "name": "python",
   "nbconvert_exporter": "python",
   "pygments_lexer": "ipython2",
   "version": "2.7.6"
  }
 },
 "nbformat": 4,
 "nbformat_minor": 0
}
